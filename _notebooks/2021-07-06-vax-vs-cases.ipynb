{
 "cells": [
  {
   "cell_type": "markdown",
   "metadata": {},
   "source": [
    "# Covid Vaccinations vs cases\n",
    "> Linear regression comparing cases per capita to vaccination rate\n",
    "\n",
    "- toc: true \n",
    "- badges: true\n",
    "- comments: true\n",
    "- categories: [jupyter]\n",
    "- image: images/chart-preview.png"
   ]
  },
  {
   "cell_type": "markdown",
   "metadata": {},
   "source": [
    "# Purpose\n",
    "I want to see how much vaccination effects the COVID outbreaks around the US."
   ]
  },
  {
   "cell_type": "code",
   "execution_count": 3,
   "metadata": {},
   "outputs": [],
   "source": [
    "import pandas as pd\n",
    "import matplotlib.pyplot as plt\n",
    "import numpy as np\n",
    "from sklearn.metrics import r2_score"
   ]
  },
  {
   "cell_type": "code",
   "execution_count": 126,
   "metadata": {},
   "outputs": [
    {
     "data": {
      "text/html": [
       "<div>\n",
       "<style scoped>\n",
       "    .dataframe tbody tr th:only-of-type {\n",
       "        vertical-align: middle;\n",
       "    }\n",
       "\n",
       "    .dataframe tbody tr th {\n",
       "        vertical-align: top;\n",
       "    }\n",
       "\n",
       "    .dataframe thead th {\n",
       "        text-align: right;\n",
       "    }\n",
       "</style>\n",
       "<table border=\"1\" class=\"dataframe\">\n",
       "  <thead>\n",
       "    <tr style=\"text-align: right;\">\n",
       "      <th></th>\n",
       "      <th>state</th>\n",
       "      <th>Cases\n",
       " Daily Avg.</th>\n",
       "      <th>cases per 100k</th>\n",
       "      <th>14-day\n",
       " change</th>\n",
       "      <th>Hospitalized\n",
       " Daily Avg.</th>\n",
       "      <th>Per\n",
       " 100,000</th>\n",
       "      <th>14-day\n",
       " change.1</th>\n",
       "      <th>Deaths\n",
       " Daily Avg.</th>\n",
       "      <th>Per\n",
       " 100,000.1</th>\n",
       "      <th>Fully  Vaccinated</th>\n",
       "    </tr>\n",
       "  </thead>\n",
       "  <tbody>\n",
       "    <tr>\n",
       "      <th>0</th>\n",
       "      <td>Vermont ›</td>\n",
       "      <td>8</td>\n",
       "      <td>1</td>\n",
       "      <td>–81%</td>\n",
       "      <td>5</td>\n",
       "      <td>&lt;1</td>\n",
       "      <td>–57%</td>\n",
       "      <td>0.0</td>\n",
       "      <td>—</td>\n",
       "      <td>57</td>\n",
       "    </tr>\n",
       "    <tr>\n",
       "      <th>1</th>\n",
       "      <td>South Dakota ›</td>\n",
       "      <td>20</td>\n",
       "      <td>2</td>\n",
       "      <td>–51%</td>\n",
       "      <td>40</td>\n",
       "      <td>5</td>\n",
       "      <td>–34%</td>\n",
       "      <td>2.3</td>\n",
       "      <td>0.26</td>\n",
       "      <td>43</td>\n",
       "    </tr>\n",
       "    <tr>\n",
       "      <th>2</th>\n",
       "      <td>Nebraska ›</td>\n",
       "      <td>45</td>\n",
       "      <td>2</td>\n",
       "      <td>–42%</td>\n",
       "      <td>81</td>\n",
       "      <td>4</td>\n",
       "      <td>–25%</td>\n",
       "      <td>1.0</td>\n",
       "      <td>0.05</td>\n",
       "      <td>42</td>\n",
       "    </tr>\n",
       "    <tr>\n",
       "      <th>3</th>\n",
       "      <td>California ›</td>\n",
       "      <td>932</td>\n",
       "      <td>2</td>\n",
       "      <td>–29%</td>\n",
       "      <td>1359</td>\n",
       "      <td>3</td>\n",
       "      <td>–18%</td>\n",
       "      <td>26.1</td>\n",
       "      <td>0.07</td>\n",
       "      <td>44</td>\n",
       "    </tr>\n",
       "    <tr>\n",
       "      <th>4</th>\n",
       "      <td>New Hampshire ›</td>\n",
       "      <td>32</td>\n",
       "      <td>2</td>\n",
       "      <td>–71%</td>\n",
       "      <td>36</td>\n",
       "      <td>3</td>\n",
       "      <td>–40%</td>\n",
       "      <td>0.7</td>\n",
       "      <td>0.05</td>\n",
       "      <td>50</td>\n",
       "    </tr>\n",
       "  </tbody>\n",
       "</table>\n",
       "</div>"
      ],
      "text/plain": [
       "             state  Cases\\n Daily Avg.  cases per 100k 14-day\\n change  \\\n",
       "0        Vermont ›                   8               1            –81%   \n",
       "1   South Dakota ›                  20               2            –51%   \n",
       "2       Nebraska ›                  45               2            –42%   \n",
       "3     California ›                 932               2            –29%   \n",
       "4  New Hampshire ›                  32               2            –71%   \n",
       "\n",
       "   Hospitalized\\n Daily Avg. Per\\n 100,000 14-day\\n change.1  \\\n",
       "0                          5            <1              –57%   \n",
       "1                         40             5              –34%   \n",
       "2                         81             4              –25%   \n",
       "3                       1359             3              –18%   \n",
       "4                         36             3              –40%   \n",
       "\n",
       "   Deaths\\n Daily Avg. Per\\n 100,000.1  Fully  Vaccinated  \n",
       "0                  0.0               —                 57  \n",
       "1                  2.3            0.26                 43  \n",
       "2                  1.0            0.05                 42  \n",
       "3                 26.1            0.07                 44  \n",
       "4                  0.7            0.05                 50  "
      ]
     },
     "execution_count": 126,
     "metadata": {},
     "output_type": "execute_result"
    }
   ],
   "source": [
    "df = pd.read_csv('data/covid_vax_2021_06_04.csv')\n",
    "df.head()"
   ]
  },
  {
   "cell_type": "code",
   "execution_count": 124,
   "metadata": {},
   "outputs": [],
   "source": [
    "def plot_vax(df, degree):\n",
    "    coeffs = np.polyfit(df['Fully  Vaccinated'], df['cases per 100k'], degree)\n",
    "    p = np.poly1d(coeffs)\n",
    "    r2 = r2_score(df['cases per 100k'], p(df['Fully  Vaccinated']))\n",
    "\n",
    "    plt.scatter(df['Fully  Vaccinated'], df['cases per 100k'], color='red')\n",
    "    plt.plot(range(25,60), p(range(25,60)))\n",
    "    plt.xlabel('Percent Fully Vaccinated')\n",
    "    plt.ylabel('Cases per 100k people')\n",
    "    plt.title(f'US State Cases vs Vaccinations. \\n r-squared: {r2.round(3)}')"
   ]
  },
  {
   "cell_type": "code",
   "execution_count": 108,
   "metadata": {},
   "outputs": [
    {
     "data": {
      "image/png": "[encoded data removed]",
      "text/plain": [
       "<Figure size 432x288 with 1 Axes>"
      ]
     },
     "metadata": {
      "needs_background": "light"
     },
     "output_type": "display_data"
    }
   ],
   "source": [
    "plot_vax(df, 1)"
   ]
  },
  {
   "cell_type": "code",
   "execution_count": 109,
   "metadata": {},
   "outputs": [
    {
     "data": {
      "image/png": "[encoded data removed]",
      "text/plain": [
       "<Figure size 432x288 with 1 Axes>"
      ]
     },
     "metadata": {
      "needs_background": "light"
     },
     "output_type": "display_data"
    }
   ],
   "source": [
    "plot_vax(df, 2)"
   ]
  },
  {
   "cell_type": "markdown",
   "metadata": {},
   "source": [
    "This one is clearly overfitting"
   ]
  },
  {
   "cell_type": "code",
   "execution_count": 119,
   "metadata": {},
   "outputs": [
    {
     "data": {
      "image/png": "[encoded data removed]",
      "text/plain": [
       "<Figure size 432x288 with 1 Axes>"
      ]
     },
     "metadata": {
      "needs_background": "light"
     },
     "output_type": "display_data"
    }
   ],
   "source": [
    "plot_vax(df, 8)"
   ]
  },
  {
   "cell_type": "code",
   "execution_count": 120,
   "metadata": {},
   "outputs": [
    {
     "data": {
      "text/html": [
       "<div>\n",
       "<style scoped>\n",
       "    .dataframe tbody tr th:only-of-type {\n",
       "        vertical-align: middle;\n",
       "    }\n",
       "\n",
       "    .dataframe tbody tr th {\n",
       "        vertical-align: top;\n",
       "    }\n",
       "\n",
       "    .dataframe thead th {\n",
       "        text-align: right;\n",
       "    }\n",
       "</style>\n",
       "<table border=\"1\" class=\"dataframe\">\n",
       "  <thead>\n",
       "    <tr style=\"text-align: right;\">\n",
       "      <th></th>\n",
       "      <th>cases per 100k</th>\n",
       "      <th>Fully  Vaccinated</th>\n",
       "    </tr>\n",
       "  </thead>\n",
       "  <tbody>\n",
       "    <tr>\n",
       "      <th>cases per 100k</th>\n",
       "      <td>1.000000</td>\n",
       "      <td>-0.379316</td>\n",
       "    </tr>\n",
       "    <tr>\n",
       "      <th>Fully  Vaccinated</th>\n",
       "      <td>-0.379316</td>\n",
       "      <td>1.000000</td>\n",
       "    </tr>\n",
       "  </tbody>\n",
       "</table>\n",
       "</div>"
      ],
      "text/plain": [
       "                   cases per 100k  Fully  Vaccinated\n",
       "cases per 100k           1.000000          -0.379316\n",
       "Fully  Vaccinated       -0.379316           1.000000"
      ]
     },
     "execution_count": 120,
     "metadata": {},
     "output_type": "execute_result"
    }
   ],
   "source": [
    "# hide\n",
    "df = df.set_index('state')[['cases per 100k', 'Fully  Vaccinated']]\n",
    "df.corr()"
   ]
  },
  {
   "cell_type": "code",
   "execution_count": 121,
   "metadata": {},
   "outputs": [],
   "source": [
    "# hide\n",
    "m, b = np.polyfit(df['Fully  Vaccinated'], df['cases per 100k'], 1)"
   ]
  },
  {
   "cell_type": "code",
   "execution_count": 122,
   "metadata": {},
   "outputs": [],
   "source": [
    "# hide\n",
    "from sklearn.metrics import r2_score\n",
    "def fit(x, y, degree=1):\n",
    "    coeffs = np.polyfit(x, y, degree)\n",
    "    p = np.poly1d(coeffs)\n",
    "    yhat = p(x)            \n",
    "    return(p, r2_score(y, p(x)))"
   ]
  },
  {
   "cell_type": "code",
   "execution_count": 123,
   "metadata": {},
   "outputs": [],
   "source": [
    "# hide\n",
    "a, b = fit(df['Fully  Vaccinated'], df['cases per 100k'], 1)\n",
    "a(df['Fully  Vaccinated'])"
   ]
  },
  {
   "cell_type": "code",
   "execution_count": 26,
   "metadata": {},
   "outputs": [],
   "source": [
    "# hide\n",
    "def polyfit(x, y, degree):\n",
    "#     results = {}\n",
    "    coeffs = np.polyfit(x, y, degree)\n",
    "    # r-squared\n",
    "    p = np.poly1d(coeffs)\n",
    "    # fit values, and mean\n",
    "    yhat = p(x)                         # or [p(z) for z in x]\n",
    "    ybar = np.sum(y)/len(y)          # or sum(y)/len(y)\n",
    "    ssreg = np.sum((yhat-ybar)**2)   # or sum([ (yihat - ybar)**2 for yihat in yhat])\n",
    "    sstot = np.sum((y - ybar)**2)    # or sum([ (yi - ybar)**2 for yi in y])\n",
    "    r2 = ssreg / sstot\n",
    "    return coeffs, r2"
   ]
  },
  {
   "cell_type": "code",
   "execution_count": 101,
   "metadata": {},
   "outputs": [],
   "source": [
    "# hide\n",
    "def plot_vax(df, degree):\n",
    "    coeffs = np.polyfit(df['Fully  Vaccinated'], df['cases per 100k'], degree)\n",
    "    p = np.poly1d(coeffs)\n",
    "    plt.scatter(df['Fully  Vaccinated'], df['cases per 100k'], color='red')\n",
    "    plt.plot(range(25,60), p(range(25,60)))\n",
    "    plt.xlabel('Percent Fully Vaccinated')\n",
    "    plt.ylabel('Cases per 100k people')\n",
    "    r2 = r2_score(df['cases per 100k'], p(df['Fully  Vaccinated']))\n",
    "    plt.title(f'US State Cases vs Vaccinations. r-squared: {r2.round(3)}')"
   ]
  },
  {
   "cell_type": "code",
   "execution_count": 72,
   "metadata": {},
   "outputs": [
    {
     "data": {
      "text/plain": [
       "array([5.65154647, 5.67088569, 5.68201591, 5.68493713, 5.67964935,\n",
       "       5.66615257, 5.6444468 , 5.61453202, 5.57640824, 5.53007547,\n",
       "       5.47553369, 5.41278292, 5.34182314, 5.26265437, 5.17527659,\n",
       "       5.07968982, 4.97589404, 4.86388927, 4.7436755 , 4.61525272,\n",
       "       4.47862095, 4.33378018, 4.18073041, 4.01947163, 3.85000386,\n",
       "       3.67232709, 3.48644132, 3.29234655, 3.09004278, 2.87953001,\n",
       "       2.66080824, 2.43387747, 2.1987377 , 1.95538894, 1.70383117])"
      ]
     },
     "execution_count": 72,
     "metadata": {},
     "output_type": "execute_result"
    }
   ],
   "source": [
    "# hide\n",
    "p(range(25,60))"
   ]
  },
  {
   "cell_type": "code",
   "execution_count": 128,
   "metadata": {},
   "outputs": [
    {
     "data": {
      "text/plain": [
       "(array([-0.11422554,  9.44178355]), 0.1438804249626333)"
      ]
     },
     "execution_count": 128,
     "metadata": {},
     "output_type": "execute_result"
    }
   ],
   "source": [
    "# hide\n",
    "polyfit(df['Fully  Vaccinated'], df['cases per 100k'], 1)"
   ]
  },
  {
   "cell_type": "code",
   "execution_count": 129,
   "metadata": {},
   "outputs": [
    {
     "data": {
      "image/png": "[encoded data removed]",
      "text/plain": [
       "<Figure size 432x288 with 1 Axes>"
      ]
     },
     "metadata": {
      "needs_background": "light"
     },
     "output_type": "display_data"
    }
   ],
   "source": [
    "# hide\n",
    "m, b = np.polyfit(df['Fully  Vaccinated'], df['cases per 100k'], 1)\n",
    "plt.scatter(df['Fully  Vaccinated'], df['cases per 100k'], color='red')\n",
    "plt.plot(df['Fully  Vaccinated'], df['Fully  Vaccinated']*m+b)\n",
    "plt.xlabel('Percent Fully Vaccinated')\n",
    "plt.ylabel('Cases per 100k people')\n",
    "plt.savefig('vax_cases_june4.png')"
   ]
  },
  {
   "cell_type": "code",
   "execution_count": null,
   "metadata": {},
   "outputs": [],
   "source": []
  }
 ],
 "metadata": {
  "kernelspec": {
   "display_name": "Python 3",
   "language": "python",
   "name": "python3"
  },
  "language_info": {
   "codemirror_mode": {
    "name": "ipython",
    "version": 3
   },
   "file_extension": ".py",
   "mimetype": "text/x-python",
   "name": "python",
   "nbconvert_exporter": "python",
   "pygments_lexer": "ipython3",
   "version": "3.7.3"
  }
 },
 "nbformat": 4,
 "nbformat_minor": 2
}
